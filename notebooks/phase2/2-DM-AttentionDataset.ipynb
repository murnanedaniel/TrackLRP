{
 "cells": [
  {
   "cell_type": "markdown",
   "metadata": {},
   "source": [
    "# Testing GNN Training"
   ]
  },
  {
   "cell_type": "code",
   "execution_count": 1,
   "metadata": {},
   "outputs": [],
   "source": [
    "%load_ext autoreload\n",
    "%autoreload 2\n",
    "\n",
    "# System imports\n",
    "import os\n",
    "import sys\n",
    "import yaml\n",
    "\n",
    "# External imports\n",
    "import matplotlib.pyplot as plt\n",
    "import numpy as np\n",
    "import pandas as pd\n",
    "from tqdm import tqdm\n",
    "import seaborn as sns\n",
    "\n",
    "import torch\n",
    "from torch_geometric.data import Data, DataLoader\n",
    "from pytorch_lightning import Trainer\n",
    "from pytorch_lightning.loggers import TensorBoardLogger, WandbLogger\n",
    "import scipy as sp\n",
    "import wandb\n",
    "\n",
    "import warnings\n",
    "\n",
    "warnings.filterwarnings(\"ignore\")\n",
    "sys.path.append(\"../../\")\n",
    "device = \"cuda\" if torch.cuda.is_available() else \"cpu\"\n",
    "\n",
    "from models.submodels.agnn import GraphLevelAGNN"
   ]
  },
  {
   "cell_type": "code",
   "execution_count": 2,
   "metadata": {},
   "outputs": [],
   "source": [
    "# load config\n",
    "with open(\"graphlevel_config.yaml\", \"r\") as f:\n",
    "    config = yaml.safe_load(f)"
   ]
  },
  {
   "cell_type": "code",
   "execution_count": 3,
   "metadata": {},
   "outputs": [],
   "source": [
    "checkpoint_path = \"/global/cfs/cdirs/m3443/data/lightning_models/lightning_checkpoints/LRP_Study_C/1wvgwzkp/checkpoints/last.ckpt\"\n",
    "model = GraphLevelAGNN.load_from_checkpoint(checkpoint_path).to(device)"
   ]
  },
  {
   "cell_type": "code",
   "execution_count": 4,
   "metadata": {},
   "outputs": [],
   "source": [
    "model.hparams[\"datatype_split\"] = [200, 100, 100]"
   ]
  },
  {
   "cell_type": "markdown",
   "metadata": {},
   "source": [
    "## Test Dataloading"
   ]
  },
  {
   "cell_type": "code",
   "execution_count": 5,
   "metadata": {},
   "outputs": [
    {
     "name": "stdout",
     "output_type": "stream",
     "text": [
      "Setting up dataset\n"
     ]
    },
    {
     "name": "stderr",
     "output_type": "stream",
     "text": [
      "100%|██████████| 200/200 [00:00<00:00, 228.65it/s]\n",
      "100%|██████████| 100/100 [00:00<00:00, 233.07it/s]\n",
      "100%|██████████| 100/100 [00:00<00:00, 224.49it/s]\n"
     ]
    }
   ],
   "source": [
    "model.setup(stage=\"fit\")"
   ]
  },
  {
   "cell_type": "code",
   "execution_count": 6,
   "metadata": {},
   "outputs": [],
   "source": [
    "for batch in model.train_dataloader():\n",
    "    sample = batch.to(device)\n",
    "    break"
   ]
  },
  {
   "cell_type": "code",
   "execution_count": 7,
   "metadata": {},
   "outputs": [],
   "source": [
    "with torch.no_grad():\n",
    "    model.eval()\n",
    "    output, attention_log = model(sample.x, sample.edge_index, sample.batch, log_attention=True)"
   ]
  },
  {
   "cell_type": "code",
   "execution_count": 8,
   "metadata": {},
   "outputs": [
    {
     "data": {
      "text/plain": [
       "<AxesSubplot:ylabel='Density'>"
      ]
     },
     "execution_count": 8,
     "metadata": {},
     "output_type": "execute_result"
    },
    {
     "data": {
      "image/png": "[encoded data removed]",
      "text/plain": [
       "<Figure size 432x288 with 1 Axes>"
      ]
     },
     "metadata": {
      "needs_background": "light"
     },
     "output_type": "display_data"
    }
   ],
   "source": [
    "sns.distplot(torch.stack(attention_log).max(dim=0)[0].cpu().numpy())"
   ]
  },
  {
   "cell_type": "code",
   "execution_count": 17,
   "metadata": {},
   "outputs": [
    {
     "name": "stdout",
     "output_type": "stream",
     "text": [
      "Number of edges passing cut: 106941, meaning 5.8281650226170365 edges per node\n"
     ]
    }
   ],
   "source": [
    "attention_cut = 0.2\n",
    "stacked_attention = torch.stack(attention_log).max(dim=0)[0]\n",
    "\n",
    "print(f\"Number of edges passing cut: {stacked_attention[stacked_attention > attention_cut].shape[0]}, meaning {stacked_attention[stacked_attention > attention_cut].shape[0]/sample.x.shape[0]} edges per node\")"
   ]
  },
  {
   "cell_type": "code",
   "execution_count": 5,
   "metadata": {},
   "outputs": [
    {
     "name": "stderr",
     "output_type": "stream",
     "text": [
      "100%|██████████| 20000/20000 [02:51<00:00, 116.59it/s]\n",
      "100%|██████████| 1000/1000 [00:05<00:00, 174.40it/s]\n",
      "100%|██████████| 1000/1000 [00:05<00:00, 175.27it/s]\n"
     ]
    }
   ],
   "source": [
    "top_dir = \"/global/cfs/cdirs/m3443/data/TrackLRP/attention_cut_dir_1\"\n",
    "with torch.no_grad():\n",
    "    model.eval()\n",
    "    for dataset, dataname in zip([model.trainset, model.valset, model.testset], [\"train\", \"val\", \"test\"]):\n",
    "        dataloader = DataLoader(dataset, batch_size=1, num_workers=0)\n",
    "        save_dir = os.path.join(top_dir, dataname)\n",
    "        os.makedirs(save_dir, exist_ok=True)\n",
    "        for i, batch in enumerate(tqdm(dataloader)):\n",
    "            sample = batch.to(device)\n",
    "            output, attention_log = model(sample.x, sample.edge_index, sample.batch, log_attention=True)\n",
    "            stacked_attention = torch.stack(attention_log).max(dim=0)[0]\n",
    "            sample.max_attention = stacked_attention\n",
    "            torch.save(sample.cpu(), os.path.join(save_dir, f\"{i}.pt\"))"
   ]
  },
  {
   "cell_type": "code",
   "execution_count": 6,
   "metadata": {},
   "outputs": [],
   "source": [
    "test_sample = torch.load(os.path.join(save_dir, \"1.pt\"))"
   ]
  },
  {
   "cell_type": "code",
   "execution_count": 7,
   "metadata": {},
   "outputs": [
    {
     "data": {
      "text/plain": [
       "DataBatch(x=[93, 2], edge_index=[2, 839], y=[839], modulewise_true_edges=[82, 2], signal_true_edges=[82, 2], pt=[93], pid=[93], y_pid=[839], pid_signal=[839], y_trigger=[1], batch=[93], ptr=[2], max_attention=[839, 1])"
      ]
     },
     "execution_count": 7,
     "metadata": {},
     "output_type": "execute_result"
    }
   ],
   "source": [
    "test_sample"
   ]
  },
  {
   "cell_type": "code",
   "execution_count": 41,
   "metadata": {},
   "outputs": [
    {
     "data": {
      "text/plain": [
       "torch.Size([2, 1470])"
      ]
     },
     "execution_count": 41,
     "metadata": {},
     "output_type": "execute_result"
    }
   ],
   "source": [
    "test_sample.edge_index[:, test_sample.max_attention.squeeze() > 0.9].shape"
   ]
  },
  {
   "cell_type": "code",
   "execution_count": 29,
   "metadata": {},
   "outputs": [
    {
     "data": {
      "text/plain": [
       "<AxesSubplot:ylabel='Count'>"
      ]
     },
     "execution_count": 29,
     "metadata": {},
     "output_type": "execute_result"
    },
    {
     "data": {
      "image/png": "[encoded data removed]",
      "text/plain": [
       "<Figure size 432x288 with 1 Axes>"
      ]
     },
     "metadata": {
      "needs_background": "light"
     },
     "output_type": "display_data"
    }
   ],
   "source": [
    "sns.histplot(test_sample.max_attention.numpy())"
   ]
  },
  {
   "cell_type": "code",
   "execution_count": null,
   "metadata": {},
   "outputs": [],
   "source": [
    "num_nodes = 100"
   ]
  },
  {
   "cell_type": "code",
   "execution_count": 18,
   "metadata": {},
   "outputs": [
    {
     "data": {
      "text/plain": [
       "DataBatch(x=[18349, 2], edge_index=[2, 166775], y=[166775], modulewise_true_edges=[16149, 2], signal_true_edges=[16149, 2], pt=[18349], pid=[18349], y_pid=[166775], pid_signal=[166775], y_trigger=[200], batch=[18349], ptr=[201])"
      ]
     },
     "execution_count": 18,
     "metadata": {},
     "output_type": "execute_result"
    }
   ],
   "source": [
    "sample"
   ]
  },
  {
   "cell_type": "code",
   "execution_count": 23,
   "metadata": {},
   "outputs": [],
   "source": [
    "rand_k = 5\n",
    "# torch.randint(sample.ptr[0], sample.ptr[1], (sample.ptr[1] - sample.ptr[0], rand_k))\n",
    "\n",
    "all_random_k = [torch.randint(sample.ptr[i], sample.ptr[i+1], (sample.ptr[i+1] - sample.ptr[i], rand_k), device=) for i in range(sample.ptr.shape[0] - 1)]"
   ]
  },
  {
   "cell_type": "code",
   "execution_count": 46,
   "metadata": {},
   "outputs": [
    {
     "data": {
      "text/plain": [
       "tensor([    0,    85,   170,   261,   351,   437,   516,   607,   695,   780,\n",
       "          868,   955,  1052,  1147,  1237,  1328,  1420,  1518,  1613,  1709,\n",
       "         1808,  1901,  1989,  2084,  2172,  2265,  2354,  2442,  2532,  2623,\n",
       "         2709,  2812,  2899,  2989,  3082,  3171,  3268,  3364,  3459,  3551,\n",
       "         3639,  3724,  3822,  3911,  4011,  4105,  4195,  4291,  4387,  4487,\n",
       "         4579,  4676,  4763,  4852,  4935,  5035,  5126,  5208,  5300,  5379,\n",
       "         5478,  5574,  5668,  5756,  5858,  5953,  6037,  6130,  6225,  6317,\n",
       "         6407,  6502,  6598,  6691,  6788,  6881,  6971,  7055,  7139,  7239,\n",
       "         7333,  7420,  7509,  7606,  7700,  7786,  7878,  7970,  8063,  8160,\n",
       "         8262,  8348,  8442,  8535,  8628,  8719,  8817,  8907,  8996,  9081,\n",
       "         9167,  9264,  9345,  9432,  9524,  9618,  9710,  9798,  9885,  9985,\n",
       "        10085, 10174, 10263, 10363, 10454, 10537, 10627, 10722, 10812, 10910,\n",
       "        11007, 11098, 11191, 11283, 11372, 11469, 11552, 11636, 11731, 11824,\n",
       "        11906, 12005, 12099, 12196, 12290, 12374, 12458, 12547, 12641, 12732,\n",
       "        12813, 12908, 13001, 13092, 13187, 13276, 13367, 13449, 13546, 13643,\n",
       "        13737, 13833, 13931, 14029, 14113, 14211, 14299, 14389, 14492, 14588,\n",
       "        14678, 14765, 14855, 14948, 15045, 15136, 15232, 15323, 15419, 15519,\n",
       "        15603, 15693, 15780, 15869, 15956, 16042, 16131, 16217, 16312, 16402,\n",
       "        16501, 16592, 16679, 16774, 16857, 16955, 17042, 17139, 17240, 17335,\n",
       "        17428, 17517, 17614, 17699, 17795, 17885, 17971, 18064, 18157, 18258,\n",
       "        18349], device='cuda:0')"
      ]
     },
     "execution_count": 46,
     "metadata": {},
     "output_type": "execute_result"
    }
   ],
   "source": [
    "sample.ptr"
   ]
  },
  {
   "cell_type": "code",
   "execution_count": 47,
   "metadata": {},
   "outputs": [
    {
     "data": {
      "text/plain": [
       "tensor([[   31,    56,    36,    68,    13],\n",
       "        [   13,    18,    15,    70,    56],\n",
       "        [   42,    35,    41,    61,    50],\n",
       "        ...,\n",
       "        [18269, 18277, 18334, 18330, 18277],\n",
       "        [18278, 18279, 18278, 18320, 18261],\n",
       "        [18275, 18292, 18292, 18343, 18316]])"
      ]
     },
     "execution_count": 47,
     "metadata": {},
     "output_type": "execute_result"
    }
   ],
   "source": [
    "all_random_k"
   ]
  },
  {
   "cell_type": "code",
   "execution_count": 28,
   "metadata": {},
   "outputs": [],
   "source": [
    "all_random_k = torch.cat(all_random_k, dim=0)"
   ]
  },
  {
   "cell_type": "code",
   "execution_count": 30,
   "metadata": {},
   "outputs": [
    {
     "data": {
      "text/plain": [
       "torch.Size([18349, 5])"
      ]
     },
     "execution_count": 30,
     "metadata": {},
     "output_type": "execute_result"
    }
   ],
   "source": [
    "all_random_k.shape"
   ]
  },
  {
   "cell_type": "code",
   "execution_count": 45,
   "metadata": {},
   "outputs": [
    {
     "data": {
      "text/plain": [
       "tensor([[   31,    56,    36,  ..., 18292, 18343, 18316],\n",
       "        [    0,     0,     0,  ..., 18348, 18348, 18348]])"
      ]
     },
     "execution_count": 45,
     "metadata": {},
     "output_type": "execute_result"
    }
   ],
   "source": [
    "torch.stack([all_random_k, torch.tile(torch.arange(all_random_k.shape[0]), (rand_k, 1)).T]).flatten(1)"
   ]
  },
  {
   "cell_type": "code",
   "execution_count": 51,
   "metadata": {},
   "outputs": [
    {
     "data": {
      "text/plain": [
       "tensor([  0,   0,   0,  ..., 199, 199, 199], device='cuda:0')"
      ]
     },
     "execution_count": 51,
     "metadata": {},
     "output_type": "execute_result"
    }
   ],
   "source": [
    "sample.batch.unique(return_inverse=True)[1]"
   ]
  },
  {
   "cell_type": "code",
   "execution_count": 4,
   "metadata": {},
   "outputs": [
    {
     "name": "stdout",
     "output_type": "stream",
     "text": [
      "0.0 1.0\n",
      "0.1 0.3678794411714422\n",
      "0.2 0.018315638888734165\n",
      "0.30000000000000004 0.00012340980408667932\n",
      "0.4 1.1253517471925872e-07\n",
      "0.5 1.3887943864964021e-11\n",
      "0.6000000000000001 2.319522830243553e-16\n",
      "0.7000000000000001 5.242885663363426e-22\n",
      "0.8 1.603810890548615e-28\n",
      "0.9 6.639677199580735e-36\n"
     ]
    }
   ],
   "source": [
    "grav_fact = 100.\n",
    "for d in np.arange(0, 1, 0.1):\n",
    "    print(d, np.exp(-grav_fact*d**2))"
   ]
  },
  {
   "cell_type": "code",
   "execution_count": 2,
   "metadata": {},
   "outputs": [],
   "source": [
    "# Create torch tensor arranged 1 to 100\n",
    "x = torch.arange(1, 101, dtype=torch.float32)\n",
    "# Stack the rows into a 10x10 tensor\n",
    "x = x.reshape(10, 10)"
   ]
  },
  {
   "cell_type": "code",
   "execution_count": 3,
   "metadata": {},
   "outputs": [
    {
     "data": {
      "text/plain": [
       "tensor([[0.8733, 0.5512, 0.7486],\n",
       "        [0.6804, 0.0180, 0.1734],\n",
       "        [0.7409, 0.8652, 0.7519],\n",
       "        [0.6434, 0.5530, 0.5918],\n",
       "        [0.3101, 0.7801, 0.2149],\n",
       "        [0.6059, 0.3508, 0.4048],\n",
       "        [0.6631, 0.9070, 0.5263],\n",
       "        [0.6359, 0.4484, 0.0595],\n",
       "        [0.6000, 0.8142, 0.1005],\n",
       "        [0.5426, 0.0608, 0.5546]])"
      ]
     },
     "execution_count": 3,
     "metadata": {},
     "output_type": "execute_result"
    }
   ],
   "source": [
    "torch.rand(10,3)"
   ]
  },
  {
   "cell_type": "code",
   "execution_count": 6,
   "metadata": {},
   "outputs": [],
   "source": [
    "A = torch.tensor([[0, 1, 2, 3, 4], [1, 2, 3, 4, 5]])\n",
    "B = torch.tensor([[3, 4, 5], [4, 5, 6]])"
   ]
  },
  {
   "cell_type": "code",
   "execution_count": 8,
   "metadata": {},
   "outputs": [],
   "source": [
    "# Take the union of A and B\n",
    "C = torch.cat((A, B), dim=1)"
   ]
  },
  {
   "cell_type": "code",
   "execution_count": 9,
   "metadata": {},
   "outputs": [
    {
     "data": {
      "text/plain": [
       "tensor([[0, 1, 2, 3, 4, 3, 4, 5],\n",
       "        [1, 2, 3, 4, 5, 4, 5, 6]])"
      ]
     },
     "execution_count": 9,
     "metadata": {},
     "output_type": "execute_result"
    }
   ],
   "source": [
    "C"
   ]
  },
  {
   "cell_type": "code",
   "execution_count": 10,
   "metadata": {},
   "outputs": [
    {
     "data": {
      "text/plain": [
       "tensor([[0, 1, 2, 3, 4, 5],\n",
       "        [1, 2, 3, 4, 5, 6]])"
      ]
     },
     "execution_count": 10,
     "metadata": {},
     "output_type": "execute_result"
    }
   ],
   "source": [
    "torch.unique(C, dim=1)"
   ]
  }
 ],
 "metadata": {
  "@webio": {
   "lastCommId": null,
   "lastKernelId": null
  },
  "interpreter": {
   "hash": "160bbf3460607ce6882228c7f3472b9123241d62d3bf3b05bb085d37e9832afe"
  },
  "kernelspec": {
   "display_name": "ExatrkxGPU",
   "language": "python",
   "name": "python3"
  },
  "language_info": {
   "codemirror_mode": {
    "name": "ipython",
    "version": 3
   },
   "file_extension": ".py",
   "mimetype": "text/x-python",
   "name": "python",
   "nbconvert_exporter": "python",
   "pygments_lexer": "ipython3",
   "version": "3.8.12"
  }
 },
 "nbformat": 4,
 "nbformat_minor": 4
}
