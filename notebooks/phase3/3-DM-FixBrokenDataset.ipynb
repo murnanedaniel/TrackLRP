{
 "cells": [
  {
   "cell_type": "code",
   "execution_count": 1,
   "metadata": {},
   "outputs": [],
   "source": [
    "%load_ext autoreload\n",
    "%autoreload 2\n",
    "\n",
    "# System imports\n",
    "import os\n",
    "import sys\n",
    "import yaml\n",
    "\n",
    "# External imports\n",
    "import matplotlib.pyplot as plt\n",
    "import numpy as np\n",
    "import pandas as pd\n",
    "from tqdm import tqdm\n",
    "\n",
    "import torch\n",
    "from torch_geometric.data import Data\n",
    "from torch.utils.data import DataLoader, Dataset\n",
    "from pytorch_lightning import Trainer\n",
    "from pytorch_lightning.loggers import TensorBoardLogger, WandbLogger\n",
    "import scipy as sp\n",
    "import wandb\n",
    "\n",
    "import warnings\n",
    "\n",
    "warnings.filterwarnings(\"ignore\")\n",
    "sys.path.append(\"../../\")\n",
    "device = \"cuda\" if torch.cuda.is_available() else \"cpu\"\n",
    "\n",
    "from lightning_modules.jetGNN.submodels.interaction_gnn import InteractionGNN\n",
    "from lightning_modules.jetGNN.submodels.gravnet import GravNet"
   ]
  },
  {
   "cell_type": "code",
   "execution_count": 2,
   "metadata": {},
   "outputs": [],
   "source": [
    "# Load the config file\n",
    "config_file = \"jet_tag_config.yaml\"\n",
    "with open(config_file, \"r\") as f:\n",
    "    config = yaml.load(f, Loader=yaml.FullLoader)"
   ]
  },
  {
   "cell_type": "code",
   "execution_count": 3,
   "metadata": {},
   "outputs": [
    {
     "name": "stdout",
     "output_type": "stream",
     "text": [
      "Loading train dataset\n",
      "Found 12 files\n"
     ]
    },
    {
     "name": "stderr",
     "output_type": "stream",
     "text": [
      " 50%|█████     | 2/4 [01:29<01:31, 45.62s/it]"
     ]
    },
    {
     "name": "stdout",
     "output_type": "stream",
     "text": [
      "Nan value found in sample\n",
      "Data(y=0.0, pE=[1], px=[1], py=[1], pz=[1], log_pt=[1], log_E=[1], delta_pt=[1], log_delta_pt=[1], delta_E=[1], log_delta_E=[1], delta_R=[1], delta_eta=[1], delta_phi=[1], jet_pt=0.5918821692466736, jet_pE=0.7195183634757996, jet_px=-0.5479620695114136, jet_py=0.2237454652786255, jet_pz=0.4091237187385559, jet_mass=nan, jet_eta=0.20556142926216125, jet_phi=0.8770483732223511)\n",
      "Saving dataset with no nan values, with length 99999\n"
     ]
    },
    {
     "name": "stderr",
     "output_type": "stream",
     "text": [
      "100%|██████████| 4/4 [03:58<00:00, 59.62s/it]\n"
     ]
    }
   ],
   "source": [
    "# 1. Load each dataset in [train, val, test]\n",
    "# 2. For each data object in dataset, torch load\n",
    "# 3. Check if each key in data object is not nan\n",
    "# 4. If does not contain nan, save to new dataset\n",
    "\n",
    "# Load the datasets\n",
    "input_dir = config[\"input_dir\"]\n",
    "for subdir in [\"train\"]:\n",
    "    print(f\"Loading {subdir} dataset\")\n",
    "    subdir_files = os.listdir(os.path.join(input_dir, subdir))\n",
    "    subdir_files = [f for f in subdir_files if f.endswith(\".pt\")]\n",
    "    print(f\"Found {len(subdir_files)} files\")\n",
    "    subdir_files = [os.path.join(input_dir, subdir, file) for file in subdir_files]\n",
    "    for file in tqdm(subdir_files[8:]):\n",
    "        need_to_save = False\n",
    "        dataset = torch.load(file)\n",
    "        # Check if any nan values in sample\n",
    "        for data in dataset:\n",
    "            for key in data.keys:\n",
    "                if torch.isnan(data[key]).any():\n",
    "                    print(\"Nan value found in sample\")\n",
    "                    print(data)\n",
    "                    # Remove sample from dataset\n",
    "                    dataset.remove(data)\n",
    "                    need_to_save = True\n",
    "        # Save the dataset\n",
    "        if need_to_save:\n",
    "            print(f\"Saving dataset with no nan values, with length {len(dataset)}\")\n",
    "            torch.save(dataset, file)\n",
    "        "
   ]
  },
  {
   "cell_type": "code",
   "execution_count": null,
   "metadata": {},
   "outputs": [],
   "source": []
  }
 ],
 "metadata": {
  "kernelspec": {
   "display_name": "Python 3.8.12 ('exatrkx-cori': conda)",
   "language": "python",
   "name": "python3"
  },
  "language_info": {
   "codemirror_mode": {
    "name": "ipython",
    "version": 3
   },
   "file_extension": ".py",
   "mimetype": "text/x-python",
   "name": "python",
   "nbconvert_exporter": "python",
   "pygments_lexer": "ipython3",
   "version": "3.8.12"
  },
  "orig_nbformat": 4,
  "vscode": {
   "interpreter": {
    "hash": "70f08f231fd793b6e9065bb0a869f03e856cf92214029e7ffd4730124f198a39"
   }
  }
 },
 "nbformat": 4,
 "nbformat_minor": 2
}
